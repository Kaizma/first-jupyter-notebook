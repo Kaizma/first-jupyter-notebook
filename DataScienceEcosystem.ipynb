{
 "cells": [
  {
   "cell_type": "markdown",
   "id": "c5a5b810-1f70-4f22-876b-ff7e669b0ba6",
   "metadata": {},
   "source": [
    "# Data Science Tools and Ecosystem"
   ]
  },
  {
   "cell_type": "markdown",
   "id": "28398a05-8655-4b43-b81c-361003b4eed8",
   "metadata": {},
   "source": [
    "In this notebook, Data Science Tools and Ecosystem are summarized."
   ]
  },
  {
   "cell_type": "markdown",
   "id": "72ec60e6-3b08-4d7e-b5bb-e500145c87c6",
   "metadata": {},
   "source": [
    "Some of the popular languages that Data Scientists use are: \n",
    "1. Python\n",
    "2. R\n",
    "3. Scala\n",
    "4. Java"
   ]
  },
  {
   "cell_type": "markdown",
   "id": "547e0ee4-7400-4c48-bc93-57e16f85ac38",
   "metadata": {},
   "source": [
    "Some of the commonly used libraries are:\n",
    "1. NumPy\n",
    "2. Pandas\n",
    "3. Matplotlib\n",
    "4. SciPy"
   ]
  },
  {
   "cell_type": "markdown",
   "id": "2d833e9a-2a24-4c53-83b1-31cbba000e14",
   "metadata": {},
   "source": [
    "|Data Science Tools|\n",
    "|--------|\n",
    "|Jupyter Notebook|\n",
    "|Tableau|\n",
    "|Apache Spark|"
   ]
  },
  {
   "cell_type": "markdown",
   "id": "a572e664-d7d4-47c7-8748-57779124edd8",
   "metadata": {},
   "source": [
    "### Below are a few examples of evaluating arithmetic expressions in Python."
   ]
  },
  {
   "cell_type": "code",
   "execution_count": 2,
   "id": "6f4d68b3-cc3b-46fa-9c40-465eac57760d",
   "metadata": {},
   "outputs": [
    {
     "data": {
      "text/plain": [
       "17"
      ]
     },
     "execution_count": 2,
     "metadata": {},
     "output_type": "execute_result"
    }
   ],
   "source": [
    "#This a simple arithmetic expression to mutiply then add integers\n",
    "(3*4)+5"
   ]
  },
  {
   "cell_type": "code",
   "execution_count": 1,
   "id": "8fb15751-6d2d-40da-9f09-26de0c920bb2",
   "metadata": {},
   "outputs": [
    {
     "name": "stdout",
     "output_type": "stream",
     "text": [
      "200 minutes in hours is :\n",
      "3.3333333333333335\n"
     ]
    }
   ],
   "source": [
    "#This will convert 200 minutes to hours by diving by 60\n",
    "a = 200/60\n",
    "print(\"200 minutes in hours is :\")\n",
    "print(a)"
   ]
  },
  {
   "cell_type": "markdown",
   "id": "7608e76a-7ce6-420c-8973-6a13e85f9505",
   "metadata": {},
   "source": [
    "**Objectives:**\n",
    "* List Popular languages in Data Science.\n",
    "* List commonly used libraries in Data Science.\n",
    "* List commonly used tools in Data Science.\n",
    "* Evaluating arithmetic expressions in Python."
   ]
  },
  {
   "cell_type": "markdown",
   "id": "c02a02a3-588a-41bc-8bd6-27e0590bd7d9",
   "metadata": {},
   "source": [
    "## Author: \n",
    "Kasun Hettiarachchi"
   ]
  },
  {
   "cell_type": "code",
   "execution_count": null,
   "id": "5a99646e-0833-471a-8f04-92826efcaf35",
   "metadata": {},
   "outputs": [],
   "source": []
  },
  {
   "cell_type": "code",
   "execution_count": null,
   "id": "c2b16ddc-67bc-488b-b3ff-a668b6955feb",
   "metadata": {},
   "outputs": [],
   "source": []
  },
  {
   "cell_type": "code",
   "execution_count": null,
   "id": "2b075ca9-760e-4fcc-916f-0212c0cc20b9",
   "metadata": {},
   "outputs": [],
   "source": []
  }
 ],
 "metadata": {
  "kernelspec": {
   "display_name": "Python 3 (ipykernel)",
   "language": "python",
   "name": "python3"
  },
  "language_info": {
   "codemirror_mode": {
    "name": "ipython",
    "version": 3
   },
   "file_extension": ".py",
   "mimetype": "text/x-python",
   "name": "python",
   "nbconvert_exporter": "python",
   "pygments_lexer": "ipython3",
   "version": "3.11.7"
  }
 },
 "nbformat": 4,
 "nbformat_minor": 5
}
